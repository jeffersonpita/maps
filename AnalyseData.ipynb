{
 "cells": [
  {
   "cell_type": "code",
   "execution_count": 29,
   "metadata": {
    "collapsed": false
   },
   "outputs": [],
   "source": [
    "import pandas as pd\n",
    "\n",
    "education_df = pd.read_csv(\"raw-data/SYB62_T09_201905_Public Expenditure on Education.csv\")\n"
   ]
  },
  {
   "cell_type": "code",
   "execution_count": 30,
   "metadata": {
    "collapsed": false
   },
   "outputs": [
    {
     "data": {
      "text/html": [
       "<div>\n",
       "<table border=\"1\" class=\"dataframe\">\n",
       "  <thead>\n",
       "    <tr style=\"text-align: right;\">\n",
       "      <th></th>\n",
       "      <th>﻿T09</th>\n",
       "      <th>Public expenditure on education</th>\n",
       "      <th>Unnamed: 2</th>\n",
       "      <th>Unnamed: 3</th>\n",
       "      <th>Unnamed: 4</th>\n",
       "      <th>Unnamed: 5</th>\n",
       "      <th>Unnamed: 6</th>\n",
       "    </tr>\n",
       "  </thead>\n",
       "  <tbody>\n",
       "    <tr>\n",
       "      <th>0</th>\n",
       "      <td>Region/Country/Area</td>\n",
       "      <td>NaN</td>\n",
       "      <td>Year</td>\n",
       "      <td>Series</td>\n",
       "      <td>Value</td>\n",
       "      <td>Footnotes</td>\n",
       "      <td>Source</td>\n",
       "    </tr>\n",
       "    <tr>\n",
       "      <th>1</th>\n",
       "      <td>4</td>\n",
       "      <td>Afghanistan</td>\n",
       "      <td>2010</td>\n",
       "      <td>Current expenditure other than staff compensat...</td>\n",
       "      <td>9.3032</td>\n",
       "      <td>NaN</td>\n",
       "      <td>United Nations Educational, Scientific and Cul...</td>\n",
       "    </tr>\n",
       "    <tr>\n",
       "      <th>2</th>\n",
       "      <td>4</td>\n",
       "      <td>Afghanistan</td>\n",
       "      <td>2010</td>\n",
       "      <td>All staff compensation as % of total expenditu...</td>\n",
       "      <td>72.3783</td>\n",
       "      <td>NaN</td>\n",
       "      <td>United Nations Educational, Scientific and Cul...</td>\n",
       "    </tr>\n",
       "    <tr>\n",
       "      <th>3</th>\n",
       "      <td>4</td>\n",
       "      <td>Afghanistan</td>\n",
       "      <td>2010</td>\n",
       "      <td>Capital expenditure as % of total expenditure ...</td>\n",
       "      <td>18.3186</td>\n",
       "      <td>NaN</td>\n",
       "      <td>United Nations Educational, Scientific and Cul...</td>\n",
       "    </tr>\n",
       "    <tr>\n",
       "      <th>4</th>\n",
       "      <td>4</td>\n",
       "      <td>Afghanistan</td>\n",
       "      <td>2010</td>\n",
       "      <td>Expenditure by level of education: primary (as...</td>\n",
       "      <td>62.1365</td>\n",
       "      <td>NaN</td>\n",
       "      <td>United Nations Educational, Scientific and Cul...</td>\n",
       "    </tr>\n",
       "  </tbody>\n",
       "</table>\n",
       "</div>"
      ],
      "text/plain": [
       "                  ﻿T09 Public expenditure on education Unnamed: 2  \\\n",
       "0  Region/Country/Area                             NaN       Year   \n",
       "1                    4                     Afghanistan       2010   \n",
       "2                    4                     Afghanistan       2010   \n",
       "3                    4                     Afghanistan       2010   \n",
       "4                    4                     Afghanistan       2010   \n",
       "\n",
       "                                          Unnamed: 3 Unnamed: 4 Unnamed: 5  \\\n",
       "0                                             Series      Value  Footnotes   \n",
       "1  Current expenditure other than staff compensat...     9.3032        NaN   \n",
       "2  All staff compensation as % of total expenditu...    72.3783        NaN   \n",
       "3  Capital expenditure as % of total expenditure ...    18.3186        NaN   \n",
       "4  Expenditure by level of education: primary (as...    62.1365        NaN   \n",
       "\n",
       "                                          Unnamed: 6  \n",
       "0                                             Source  \n",
       "1  United Nations Educational, Scientific and Cul...  \n",
       "2  United Nations Educational, Scientific and Cul...  \n",
       "3  United Nations Educational, Scientific and Cul...  \n",
       "4  United Nations Educational, Scientific and Cul...  "
      ]
     },
     "execution_count": 30,
     "metadata": {},
     "output_type": "execute_result"
    }
   ],
   "source": [
    "education_df.head()"
   ]
  },
  {
   "cell_type": "code",
   "execution_count": 31,
   "metadata": {
    "collapsed": false
   },
   "outputs": [],
   "source": [
    "gdp_df = pd.read_csv(\"raw-data/SYB62_T13_201904_GDP and GDP Per Capita.csv\", encoding = \"ISO-8859-1\" )"
   ]
  },
  {
   "cell_type": "code",
   "execution_count": 32,
   "metadata": {
    "collapsed": false
   },
   "outputs": [
    {
     "data": {
      "text/html": [
       "<div>\n",
       "<table border=\"1\" class=\"dataframe\">\n",
       "  <thead>\n",
       "    <tr style=\"text-align: right;\">\n",
       "      <th></th>\n",
       "      <th>[T13.]</th>\n",
       "      <th>Gross domestic product and gross domestic product per capita</th>\n",
       "      <th>Unnamed: 2</th>\n",
       "      <th>Unnamed: 3</th>\n",
       "      <th>Unnamed: 4</th>\n",
       "      <th>Unnamed: 5</th>\n",
       "      <th>Unnamed: 6</th>\n",
       "    </tr>\n",
       "  </thead>\n",
       "  <tbody>\n",
       "    <tr>\n",
       "      <th>0</th>\n",
       "      <td>Region/Country/Area</td>\n",
       "      <td>NaN</td>\n",
       "      <td>Year</td>\n",
       "      <td>Series</td>\n",
       "      <td>Value</td>\n",
       "      <td>Footnotes</td>\n",
       "      <td>Source</td>\n",
       "    </tr>\n",
       "    <tr>\n",
       "      <th>1</th>\n",
       "      <td>1</td>\n",
       "      <td>Total, all countries or areas</td>\n",
       "      <td>1985</td>\n",
       "      <td>GDP in current prices (millions of US dollars)</td>\n",
       "      <td>13,518,851</td>\n",
       "      <td>NaN</td>\n",
       "      <td>United Nations Statistics Division, New York, ...</td>\n",
       "    </tr>\n",
       "    <tr>\n",
       "      <th>2</th>\n",
       "      <td>1</td>\n",
       "      <td>Total, all countries or areas</td>\n",
       "      <td>1995</td>\n",
       "      <td>GDP in current prices (millions of US dollars)</td>\n",
       "      <td>31,084,222</td>\n",
       "      <td>NaN</td>\n",
       "      <td>United Nations Statistics Division, New York, ...</td>\n",
       "    </tr>\n",
       "    <tr>\n",
       "      <th>3</th>\n",
       "      <td>1</td>\n",
       "      <td>Total, all countries or areas</td>\n",
       "      <td>2005</td>\n",
       "      <td>GDP in current prices (millions of US dollars)</td>\n",
       "      <td>47,550,129</td>\n",
       "      <td>NaN</td>\n",
       "      <td>United Nations Statistics Division, New York, ...</td>\n",
       "    </tr>\n",
       "    <tr>\n",
       "      <th>4</th>\n",
       "      <td>1</td>\n",
       "      <td>Total, all countries or areas</td>\n",
       "      <td>2010</td>\n",
       "      <td>GDP in current prices (millions of US dollars)</td>\n",
       "      <td>66,145,612</td>\n",
       "      <td>NaN</td>\n",
       "      <td>United Nations Statistics Division, New York, ...</td>\n",
       "    </tr>\n",
       "  </tbody>\n",
       "</table>\n",
       "</div>"
      ],
      "text/plain": [
       "                [T13.]  \\\n",
       "0  Region/Country/Area   \n",
       "1                    1   \n",
       "2                    1   \n",
       "3                    1   \n",
       "4                    1   \n",
       "\n",
       "  Gross domestic product and gross domestic product per capita Unnamed: 2  \\\n",
       "0                                                NaN                 Year   \n",
       "1                      Total, all countries or areas                 1985   \n",
       "2                      Total, all countries or areas                 1995   \n",
       "3                      Total, all countries or areas                 2005   \n",
       "4                      Total, all countries or areas                 2010   \n",
       "\n",
       "                                       Unnamed: 3  Unnamed: 4 Unnamed: 5  \\\n",
       "0                                          Series       Value  Footnotes   \n",
       "1  GDP in current prices (millions of US dollars)  13,518,851        NaN   \n",
       "2  GDP in current prices (millions of US dollars)  31,084,222        NaN   \n",
       "3  GDP in current prices (millions of US dollars)  47,550,129        NaN   \n",
       "4  GDP in current prices (millions of US dollars)  66,145,612        NaN   \n",
       "\n",
       "                                          Unnamed: 6  \n",
       "0                                             Source  \n",
       "1  United Nations Statistics Division, New York, ...  \n",
       "2  United Nations Statistics Division, New York, ...  \n",
       "3  United Nations Statistics Division, New York, ...  \n",
       "4  United Nations Statistics Division, New York, ...  "
      ]
     },
     "execution_count": 32,
     "metadata": {},
     "output_type": "execute_result"
    }
   ],
   "source": [
    "gdp_df.head()"
   ]
  },
  {
   "cell_type": "code",
   "execution_count": 33,
   "metadata": {
    "collapsed": false
   },
   "outputs": [],
   "source": [
    "education_gdp = education_df['Unnamed: 3']==\"Public expenditure on education (% of GDP)\"\n",
    "education_exp = education_df['Unnamed: 3']==\"Public expenditure on education (% of government expenditure)\"\n",
    "\n",
    "ed_exp = education_df[education_exp]\n",
    "ed_gdp = education_df[education_gdp]\n"
   ]
  },
  {
   "cell_type": "code",
   "execution_count": 34,
   "metadata": {
    "collapsed": false
   },
   "outputs": [
    {
     "data": {
      "text/html": [
       "<div>\n",
       "<table border=\"1\" class=\"dataframe\">\n",
       "  <thead>\n",
       "    <tr style=\"text-align: right;\">\n",
       "      <th></th>\n",
       "      <th>Country</th>\n",
       "      <th>%</th>\n",
       "    </tr>\n",
       "  </thead>\n",
       "  <tbody>\n",
       "    <tr>\n",
       "      <th>62</th>\n",
       "      <td>Grenada</td>\n",
       "      <td>42.7886</td>\n",
       "    </tr>\n",
       "    <tr>\n",
       "      <th>170</th>\n",
       "      <td>Zimbabwe</td>\n",
       "      <td>30.0076</td>\n",
       "    </tr>\n",
       "    <tr>\n",
       "      <th>52</th>\n",
       "      <td>Ethiopia</td>\n",
       "      <td>27.0987</td>\n",
       "    </tr>\n",
       "    <tr>\n",
       "      <th>51</th>\n",
       "      <td>Eswatini</td>\n",
       "      <td>24.9452</td>\n",
       "    </tr>\n",
       "    <tr>\n",
       "      <th>18</th>\n",
       "      <td>Bhutan</td>\n",
       "      <td>24.0410</td>\n",
       "    </tr>\n",
       "  </tbody>\n",
       "</table>\n",
       "</div>"
      ],
      "text/plain": [
       "      Country        %\n",
       "62    Grenada  42.7886\n",
       "170  Zimbabwe  30.0076\n",
       "52   Ethiopia  27.0987\n",
       "51   Eswatini  24.9452\n",
       "18     Bhutan  24.0410"
      ]
     },
     "execution_count": 34,
     "metadata": {},
     "output_type": "execute_result"
    }
   ],
   "source": [
    "def get_pd_groupedby( ed1, col ):\n",
    "    df_grouped = ed1.groupby([col], as_index=True).agg({\"Unnamed: 2\":'max'})\n",
    "    df_grouped = df_grouped.reset_index()\n",
    "    df_grouped = df_grouped.rename(columns={'Unnamed: 2':'year_max'})\n",
    "\n",
    "    df = pd.merge(ed1, df_grouped, how='left', on=[col])\n",
    "    df = df[df[\"Unnamed: 2\"] == df['year_max']]\n",
    "    df = df[[\"Public expenditure on education\", \"Unnamed: 2\", \"Unnamed: 4\"]]\n",
    "    df = df.reset_index()\n",
    "    del df[\"index\"]\n",
    "    df.columns = [\"Country\", \"Year\", \"%\"]\n",
    "    df[\"%\"] = pd.to_numeric(df[\"%\"])\n",
    "    return df\n",
    "\n",
    "a1 = get_pd_groupedby(ed_exp, \"Public expenditure on education\")\n",
    "a2 = get_pd_groupedby(ed_gdp, \"Public expenditure on education\")\n",
    "\n",
    "del a1['Year']\n",
    "del a2['Year']\n",
    "a1.to_json(\"data/expenditureEducationExp.json\")\n",
    "a2.to_json(\"data/expenditureEducationGDP.json\")\n",
    "a = a1.sort_values(by=['%'], ascending=False)\n",
    "a.head()"
   ]
  },
  {
   "cell_type": "code",
   "execution_count": 35,
   "metadata": {
    "collapsed": true
   },
   "outputs": [],
   "source": [
    "active_fires = pd.read_csv(\"raw-data/VNP14IMGTDL_NRT_Global_24h.csv\")"
   ]
  },
  {
   "cell_type": "code",
   "execution_count": 36,
   "metadata": {
    "collapsed": false
   },
   "outputs": [
    {
     "data": {
      "text/html": [
       "<div>\n",
       "<table border=\"1\" class=\"dataframe\">\n",
       "  <thead>\n",
       "    <tr style=\"text-align: right;\">\n",
       "      <th></th>\n",
       "      <th>latitude</th>\n",
       "      <th>longitude</th>\n",
       "      <th>bright_ti4</th>\n",
       "      <th>scan</th>\n",
       "      <th>track</th>\n",
       "      <th>acq_date</th>\n",
       "      <th>acq_time</th>\n",
       "      <th>satellite</th>\n",
       "      <th>confidence</th>\n",
       "      <th>version</th>\n",
       "      <th>bright_ti5</th>\n",
       "      <th>frp</th>\n",
       "      <th>daynight</th>\n",
       "    </tr>\n",
       "  </thead>\n",
       "  <tbody>\n",
       "    <tr>\n",
       "      <th>0</th>\n",
       "      <td>10.28729</td>\n",
       "      <td>11.19320</td>\n",
       "      <td>295.8</td>\n",
       "      <td>0.40</td>\n",
       "      <td>0.60</td>\n",
       "      <td>2019-08-23</td>\n",
       "      <td>6</td>\n",
       "      <td>N</td>\n",
       "      <td>nominal</td>\n",
       "      <td>1.0NRT</td>\n",
       "      <td>272.0</td>\n",
       "      <td>0.5</td>\n",
       "      <td>N</td>\n",
       "    </tr>\n",
       "    <tr>\n",
       "      <th>1</th>\n",
       "      <td>-1.06422</td>\n",
       "      <td>30.05769</td>\n",
       "      <td>302.0</td>\n",
       "      <td>0.56</td>\n",
       "      <td>0.69</td>\n",
       "      <td>2019-08-23</td>\n",
       "      <td>6</td>\n",
       "      <td>N</td>\n",
       "      <td>nominal</td>\n",
       "      <td>1.0NRT</td>\n",
       "      <td>279.8</td>\n",
       "      <td>1.0</td>\n",
       "      <td>N</td>\n",
       "    </tr>\n",
       "    <tr>\n",
       "      <th>2</th>\n",
       "      <td>-1.48444</td>\n",
       "      <td>30.77881</td>\n",
       "      <td>295.4</td>\n",
       "      <td>0.63</td>\n",
       "      <td>0.72</td>\n",
       "      <td>2019-08-23</td>\n",
       "      <td>6</td>\n",
       "      <td>N</td>\n",
       "      <td>nominal</td>\n",
       "      <td>1.0NRT</td>\n",
       "      <td>284.3</td>\n",
       "      <td>1.1</td>\n",
       "      <td>N</td>\n",
       "    </tr>\n",
       "    <tr>\n",
       "      <th>3</th>\n",
       "      <td>-1.59926</td>\n",
       "      <td>30.70336</td>\n",
       "      <td>299.9</td>\n",
       "      <td>0.63</td>\n",
       "      <td>0.72</td>\n",
       "      <td>2019-08-23</td>\n",
       "      <td>6</td>\n",
       "      <td>N</td>\n",
       "      <td>nominal</td>\n",
       "      <td>1.0NRT</td>\n",
       "      <td>282.9</td>\n",
       "      <td>2.2</td>\n",
       "      <td>N</td>\n",
       "    </tr>\n",
       "    <tr>\n",
       "      <th>4</th>\n",
       "      <td>-1.60022</td>\n",
       "      <td>30.70971</td>\n",
       "      <td>306.6</td>\n",
       "      <td>0.63</td>\n",
       "      <td>0.72</td>\n",
       "      <td>2019-08-23</td>\n",
       "      <td>6</td>\n",
       "      <td>N</td>\n",
       "      <td>nominal</td>\n",
       "      <td>1.0NRT</td>\n",
       "      <td>282.9</td>\n",
       "      <td>2.0</td>\n",
       "      <td>N</td>\n",
       "    </tr>\n",
       "  </tbody>\n",
       "</table>\n",
       "</div>"
      ],
      "text/plain": [
       "   latitude  longitude  bright_ti4  scan  track    acq_date  acq_time  \\\n",
       "0  10.28729   11.19320       295.8  0.40   0.60  2019-08-23         6   \n",
       "1  -1.06422   30.05769       302.0  0.56   0.69  2019-08-23         6   \n",
       "2  -1.48444   30.77881       295.4  0.63   0.72  2019-08-23         6   \n",
       "3  -1.59926   30.70336       299.9  0.63   0.72  2019-08-23         6   \n",
       "4  -1.60022   30.70971       306.6  0.63   0.72  2019-08-23         6   \n",
       "\n",
       "  satellite confidence version  bright_ti5  frp daynight  \n",
       "0         N    nominal  1.0NRT       272.0  0.5        N  \n",
       "1         N    nominal  1.0NRT       279.8  1.0        N  \n",
       "2         N    nominal  1.0NRT       284.3  1.1        N  \n",
       "3         N    nominal  1.0NRT       282.9  2.2        N  \n",
       "4         N    nominal  1.0NRT       282.9  2.0        N  "
      ]
     },
     "execution_count": 36,
     "metadata": {},
     "output_type": "execute_result"
    }
   ],
   "source": [
    "active_fires.head()"
   ]
  },
  {
   "cell_type": "code",
   "execution_count": 37,
   "metadata": {
    "collapsed": false
   },
   "outputs": [
    {
     "data": {
      "text/plain": [
       "latitude         71.7446\n",
       "longitude        179.097\n",
       "bright_ti4           367\n",
       "scan                 0.8\n",
       "track               0.78\n",
       "acq_date      2019-08-24\n",
       "acq_time            2354\n",
       "satellite              N\n",
       "confidence       nominal\n",
       "version           1.0NRT\n",
       "bright_ti5           380\n",
       "frp                937.7\n",
       "daynight               N\n",
       "dtype: object"
      ]
     },
     "execution_count": 37,
     "metadata": {},
     "output_type": "execute_result"
    }
   ],
   "source": [
    "active_fires.max()"
   ]
  },
  {
   "cell_type": "code",
   "execution_count": 38,
   "metadata": {
    "collapsed": false
   },
   "outputs": [
    {
     "data": {
      "text/plain": [
       "latitude        -70.3403\n",
       "longitude       -172.628\n",
       "bright_ti4           208\n",
       "scan                0.32\n",
       "track               0.36\n",
       "acq_date      2019-08-23\n",
       "acq_time               0\n",
       "satellite              N\n",
       "confidence          high\n",
       "version           1.0NRT\n",
       "bright_ti5         220.1\n",
       "frp                    0\n",
       "daynight               D\n",
       "dtype: object"
      ]
     },
     "execution_count": 38,
     "metadata": {},
     "output_type": "execute_result"
    }
   ],
   "source": [
    "active_fires.min()"
   ]
  },
  {
   "cell_type": "code",
   "execution_count": 39,
   "metadata": {
    "collapsed": false
   },
   "outputs": [],
   "source": [
    "active_fires1 = active_fires[['latitude', 'longitude', 'frp']]\n",
    "active_fires1.to_json(\"data/activefires.json\")"
   ]
  },
  {
   "cell_type": "code",
   "execution_count": null,
   "metadata": {
    "collapsed": true
   },
   "outputs": [],
   "source": []
  }
 ],
 "metadata": {
  "anaconda-cloud": {},
  "kernelspec": {
   "display_name": "Python [conda env:anaconda3]",
   "language": "python",
   "name": "conda-env-anaconda3-py"
  },
  "language_info": {
   "codemirror_mode": {
    "name": "ipython",
    "version": 3
   },
   "file_extension": ".py",
   "mimetype": "text/x-python",
   "name": "python",
   "nbconvert_exporter": "python",
   "pygments_lexer": "ipython3",
   "version": "3.5.2"
  }
 },
 "nbformat": 4,
 "nbformat_minor": 2
}
