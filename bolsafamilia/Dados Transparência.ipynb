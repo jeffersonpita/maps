{
 "cells": [
  {
   "cell_type": "code",
   "execution_count": 17,
   "metadata": {
    "collapsed": false
   },
   "outputs": [
    {
     "data": {
      "text/plain": [
       "'0.25.3'"
      ]
     },
     "execution_count": 17,
     "metadata": {},
     "output_type": "execute_result"
    }
   ],
   "source": [
    "import pandas as pd\n",
    "pd.__version__"
   ]
  },
  {
   "cell_type": "code",
   "execution_count": 18,
   "metadata": {
    "collapsed": false
   },
   "outputs": [
    {
     "name": "stdout",
     "output_type": "stream",
     "text": [
      "Index(['UF', 'Nome_UF', 'Mesorregião Geográfica', 'Nome_Mesorregião',\n",
      "       'Microrregião Geográfica', 'Nome_Microrregião', 'Município',\n",
      "       'Código Município Completo', 'Nome_Município'],\n",
      "      dtype='object')\n"
     ]
    }
   ],
   "source": [
    "df = pd.read_excel('DTB_2018/RELATORIO_DTB_BRASIL_MUNICIPIO.xls', sheet_name='DTB_2018_Municipio')\n",
    "print(df.columns)"
   ]
  },
  {
   "cell_type": "code",
   "execution_count": 19,
   "metadata": {
    "collapsed": false
   },
   "outputs": [
    {
     "data": {
      "text/plain": [
       "UF                           5570\n",
       "Nome_UF                      5570\n",
       "Mesorregião Geográfica       5570\n",
       "Nome_Mesorregião             5570\n",
       "Microrregião Geográfica      5570\n",
       "Nome_Microrregião            5570\n",
       "Município                    5570\n",
       "Código Município Completo    5570\n",
       "Nome_Município               5570\n",
       "dtype: int64"
      ]
     },
     "execution_count": 19,
     "metadata": {},
     "output_type": "execute_result"
    }
   ],
   "source": [
    "df.count()"
   ]
  },
  {
   "cell_type": "code",
   "execution_count": 20,
   "metadata": {
    "collapsed": false
   },
   "outputs": [
    {
     "data": {
      "text/html": [
       "<div>\n",
       "<style scoped>\n",
       "    .dataframe tbody tr th:only-of-type {\n",
       "        vertical-align: middle;\n",
       "    }\n",
       "\n",
       "    .dataframe tbody tr th {\n",
       "        vertical-align: top;\n",
       "    }\n",
       "\n",
       "    .dataframe thead th {\n",
       "        text-align: right;\n",
       "    }\n",
       "</style>\n",
       "<table border=\"1\" class=\"dataframe\">\n",
       "  <thead>\n",
       "    <tr style=\"text-align: right;\">\n",
       "      <th></th>\n",
       "      <th>Nome_Município</th>\n",
       "      <th>Nome_UF</th>\n",
       "      <th>Código Município Completo</th>\n",
       "    </tr>\n",
       "  </thead>\n",
       "  <tbody>\n",
       "    <tr>\n",
       "      <th>0</th>\n",
       "      <td>Alta Floresta D'Oeste</td>\n",
       "      <td>Rondônia</td>\n",
       "      <td>1100015</td>\n",
       "    </tr>\n",
       "    <tr>\n",
       "      <th>1</th>\n",
       "      <td>Alto Alegre dos Parecis</td>\n",
       "      <td>Rondônia</td>\n",
       "      <td>1100379</td>\n",
       "    </tr>\n",
       "    <tr>\n",
       "      <th>2</th>\n",
       "      <td>Alto Paraíso</td>\n",
       "      <td>Rondônia</td>\n",
       "      <td>1100403</td>\n",
       "    </tr>\n",
       "    <tr>\n",
       "      <th>3</th>\n",
       "      <td>Alvorada D'Oeste</td>\n",
       "      <td>Rondônia</td>\n",
       "      <td>1100346</td>\n",
       "    </tr>\n",
       "    <tr>\n",
       "      <th>4</th>\n",
       "      <td>Ariquemes</td>\n",
       "      <td>Rondônia</td>\n",
       "      <td>1100023</td>\n",
       "    </tr>\n",
       "    <tr>\n",
       "      <th>...</th>\n",
       "      <td>...</td>\n",
       "      <td>...</td>\n",
       "      <td>...</td>\n",
       "    </tr>\n",
       "    <tr>\n",
       "      <th>5565</th>\n",
       "      <td>Vianópolis</td>\n",
       "      <td>Goiás</td>\n",
       "      <td>5222005</td>\n",
       "    </tr>\n",
       "    <tr>\n",
       "      <th>5566</th>\n",
       "      <td>Vicentinópolis</td>\n",
       "      <td>Goiás</td>\n",
       "      <td>5222054</td>\n",
       "    </tr>\n",
       "    <tr>\n",
       "      <th>5567</th>\n",
       "      <td>Vila Boa</td>\n",
       "      <td>Goiás</td>\n",
       "      <td>5222203</td>\n",
       "    </tr>\n",
       "    <tr>\n",
       "      <th>5568</th>\n",
       "      <td>Vila Propício</td>\n",
       "      <td>Goiás</td>\n",
       "      <td>5222302</td>\n",
       "    </tr>\n",
       "    <tr>\n",
       "      <th>5569</th>\n",
       "      <td>Brasília</td>\n",
       "      <td>Distrito Federal</td>\n",
       "      <td>5300108</td>\n",
       "    </tr>\n",
       "  </tbody>\n",
       "</table>\n",
       "<p>5570 rows × 3 columns</p>\n",
       "</div>"
      ],
      "text/plain": [
       "               Nome_Município           Nome_UF  Código Município Completo\n",
       "0       Alta Floresta D'Oeste          Rondônia                    1100015\n",
       "1     Alto Alegre dos Parecis          Rondônia                    1100379\n",
       "2                Alto Paraíso          Rondônia                    1100403\n",
       "3            Alvorada D'Oeste          Rondônia                    1100346\n",
       "4                   Ariquemes          Rondônia                    1100023\n",
       "...                       ...               ...                        ...\n",
       "5565               Vianópolis             Goiás                    5222005\n",
       "5566           Vicentinópolis             Goiás                    5222054\n",
       "5567                 Vila Boa             Goiás                    5222203\n",
       "5568            Vila Propício             Goiás                    5222302\n",
       "5569                 Brasília  Distrito Federal                    5300108\n",
       "\n",
       "[5570 rows x 3 columns]"
      ]
     },
     "execution_count": 20,
     "metadata": {},
     "output_type": "execute_result"
    }
   ],
   "source": [
    "df1 = df[[\"Nome_Município\", \"Nome_UF\", \"Código Município Completo\"]]\n",
    "df1"
   ]
  },
  {
   "cell_type": "code",
   "execution_count": 54,
   "metadata": {
    "collapsed": false
   },
   "outputs": [
    {
     "data": {
      "text/html": [
       "<div>\n",
       "<style scoped>\n",
       "    .dataframe tbody tr th:only-of-type {\n",
       "        vertical-align: middle;\n",
       "    }\n",
       "\n",
       "    .dataframe tbody tr th {\n",
       "        vertical-align: top;\n",
       "    }\n",
       "\n",
       "    .dataframe thead th {\n",
       "        text-align: right;\n",
       "    }\n",
       "</style>\n",
       "<table border=\"1\" class=\"dataframe\">\n",
       "  <thead>\n",
       "    <tr style=\"text-align: right;\">\n",
       "      <th></th>\n",
       "      <th>Nome_Município</th>\n",
       "      <th>Nome_UF</th>\n",
       "      <th>Código Município Completo</th>\n",
       "    </tr>\n",
       "  </thead>\n",
       "  <tbody>\n",
       "    <tr>\n",
       "      <th>0</th>\n",
       "      <td>Alta Floresta D'Oeste</td>\n",
       "      <td>Rondônia</td>\n",
       "      <td>1100015</td>\n",
       "    </tr>\n",
       "    <tr>\n",
       "      <th>1</th>\n",
       "      <td>Alto Alegre dos Parecis</td>\n",
       "      <td>Rondônia</td>\n",
       "      <td>1100379</td>\n",
       "    </tr>\n",
       "    <tr>\n",
       "      <th>2</th>\n",
       "      <td>Alto Paraíso</td>\n",
       "      <td>Rondônia</td>\n",
       "      <td>1100403</td>\n",
       "    </tr>\n",
       "    <tr>\n",
       "      <th>3</th>\n",
       "      <td>Alvorada D'Oeste</td>\n",
       "      <td>Rondônia</td>\n",
       "      <td>1100346</td>\n",
       "    </tr>\n",
       "    <tr>\n",
       "      <th>4</th>\n",
       "      <td>Ariquemes</td>\n",
       "      <td>Rondônia</td>\n",
       "      <td>1100023</td>\n",
       "    </tr>\n",
       "    <tr>\n",
       "      <th>...</th>\n",
       "      <td>...</td>\n",
       "      <td>...</td>\n",
       "      <td>...</td>\n",
       "    </tr>\n",
       "    <tr>\n",
       "      <th>5565</th>\n",
       "      <td>Vianópolis</td>\n",
       "      <td>Goiás</td>\n",
       "      <td>5222005</td>\n",
       "    </tr>\n",
       "    <tr>\n",
       "      <th>5566</th>\n",
       "      <td>Vicentinópolis</td>\n",
       "      <td>Goiás</td>\n",
       "      <td>5222054</td>\n",
       "    </tr>\n",
       "    <tr>\n",
       "      <th>5567</th>\n",
       "      <td>Vila Boa</td>\n",
       "      <td>Goiás</td>\n",
       "      <td>5222203</td>\n",
       "    </tr>\n",
       "    <tr>\n",
       "      <th>5568</th>\n",
       "      <td>Vila Propício</td>\n",
       "      <td>Goiás</td>\n",
       "      <td>5222302</td>\n",
       "    </tr>\n",
       "    <tr>\n",
       "      <th>5569</th>\n",
       "      <td>Brasília</td>\n",
       "      <td>Distrito Federal</td>\n",
       "      <td>5300108</td>\n",
       "    </tr>\n",
       "  </tbody>\n",
       "</table>\n",
       "<p>5570 rows × 3 columns</p>\n",
       "</div>"
      ],
      "text/plain": [
       "               Nome_Município           Nome_UF  Código Município Completo\n",
       "0       Alta Floresta D'Oeste          Rondônia                    1100015\n",
       "1     Alto Alegre dos Parecis          Rondônia                    1100379\n",
       "2                Alto Paraíso          Rondônia                    1100403\n",
       "3            Alvorada D'Oeste          Rondônia                    1100346\n",
       "4                   Ariquemes          Rondônia                    1100023\n",
       "...                       ...               ...                        ...\n",
       "5565               Vianópolis             Goiás                    5222005\n",
       "5566           Vicentinópolis             Goiás                    5222054\n",
       "5567                 Vila Boa             Goiás                    5222203\n",
       "5568            Vila Propício             Goiás                    5222302\n",
       "5569                 Brasília  Distrito Federal                    5300108\n",
       "\n",
       "[5570 rows x 3 columns]"
      ]
     },
     "execution_count": 54,
     "metadata": {},
     "output_type": "execute_result"
    }
   ],
   "source": [
    "df2 = df1[:]\n",
    "df2"
   ]
  },
  {
   "cell_type": "code",
   "execution_count": 22,
   "metadata": {
    "collapsed": true
   },
   "outputs": [],
   "source": [
    "import requests\n",
    "import json"
   ]
  },
  {
   "cell_type": "code",
   "execution_count": 41,
   "metadata": {
    "collapsed": false
   },
   "outputs": [],
   "source": [
    "def getBolsaFamiliaData( mesAno, codigo ):\n",
    "    params1 = {\"mesAno\":mesAno, \"codigoIbge\":codigo }\n",
    "    response = requests.get(\"http://www.transparencia.gov.br/api-de-dados/bolsa-familia-por-municipio\", params=params1)\n",
    "    if response.status_code==200:\n",
    "        data = response.json()\n",
    "        if len(data)>0:\n",
    "            return (str(data[0]['quantidadeBeneficiados']), str(data[0]['valor']) )\n",
    "    \n",
    "    return None"
   ]
  },
  {
   "cell_type": "code",
   "execution_count": 58,
   "metadata": {
    "collapsed": false
   },
   "outputs": [
    {
     "name": "stdout",
     "output_type": "stream",
     "text": [
      "Salvo bolsafamilia201911csv\n",
      "Salvo bolsafamilia201912csv\n"
     ]
    }
   ],
   "source": [
    "months = [\"201911\", \"201912\"]\n",
    "#months = [\"202001\"]\n",
    "for m in months:\n",
    "    s = df2.copy(deep=False)\n",
    "    df3 = s.apply(lambda x: getBolsaFamiliaData(m, x[\"Código Município Completo\"]), axis=1)\n",
    "    if(df3[0]!=None):\n",
    "        df3 = df3.apply(pd.Series)\n",
    "        df3.columns = ['Quantidade de Beneficiados', \"Valor\"]\n",
    "        df4 = s.merge(df3, left_index=True, right_index=True)\n",
    "        df4.to_csv(\"bolsafamilia\"+m+\"csv\", index=False)\n",
    "        print(\"Salvo bolsafamilia\"+m+\"csv\")\n",
    "    \n"
   ]
  },
  {
   "cell_type": "code",
   "execution_count": null,
   "metadata": {
    "collapsed": false
   },
   "outputs": [],
   "source": []
  },
  {
   "cell_type": "code",
   "execution_count": null,
   "metadata": {
    "collapsed": false
   },
   "outputs": [],
   "source": []
  },
  {
   "cell_type": "code",
   "execution_count": null,
   "metadata": {
    "collapsed": false
   },
   "outputs": [],
   "source": []
  },
  {
   "cell_type": "code",
   "execution_count": null,
   "metadata": {
    "collapsed": false
   },
   "outputs": [],
   "source": [
    "\n"
   ]
  },
  {
   "cell_type": "code",
   "execution_count": null,
   "metadata": {
    "collapsed": false
   },
   "outputs": [],
   "source": []
  },
  {
   "cell_type": "code",
   "execution_count": null,
   "metadata": {
    "collapsed": false
   },
   "outputs": [],
   "source": []
  },
  {
   "cell_type": "code",
   "execution_count": null,
   "metadata": {
    "collapsed": false
   },
   "outputs": [],
   "source": []
  },
  {
   "cell_type": "code",
   "execution_count": null,
   "metadata": {
    "collapsed": false
   },
   "outputs": [],
   "source": []
  },
  {
   "cell_type": "code",
   "execution_count": null,
   "metadata": {
    "collapsed": false
   },
   "outputs": [],
   "source": []
  },
  {
   "cell_type": "code",
   "execution_count": null,
   "metadata": {
    "collapsed": false
   },
   "outputs": [],
   "source": []
  },
  {
   "cell_type": "code",
   "execution_count": null,
   "metadata": {
    "collapsed": false
   },
   "outputs": [],
   "source": []
  },
  {
   "cell_type": "code",
   "execution_count": null,
   "metadata": {
    "collapsed": true
   },
   "outputs": [],
   "source": []
  }
 ],
 "metadata": {
  "kernelspec": {
   "display_name": "Python 3",
   "language": "python",
   "name": "python3"
  },
  "language_info": {
   "codemirror_mode": {
    "name": "ipython",
    "version": 3
   },
   "file_extension": ".py",
   "mimetype": "text/x-python",
   "name": "python",
   "nbconvert_exporter": "python",
   "pygments_lexer": "ipython3",
   "version": "3.6.0"
  }
 },
 "nbformat": 4,
 "nbformat_minor": 2
}
